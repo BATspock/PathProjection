{
 "cells": [
  {
   "cell_type": "markdown",
   "metadata": {},
   "source": [
    "# Mock data"
   ]
  },
  {
   "cell_type": "code",
   "execution_count": 1,
   "metadata": {},
   "outputs": [
    {
     "name": "stderr",
     "output_type": "stream",
     "text": [
      "No handles with labels found to put in legend.\n"
     ]
    },
    {
     "data": {
      "text/plain": [
       "<Figure size 640x480 with 1 Axes>"
      ]
     },
     "metadata": {},
     "output_type": "display_data"
    }
   ],
   "source": [
    "import matplotlib as mpl\n",
    "from mpl_toolkits.mplot3d import Axes3D\n",
    "import numpy as np\n",
    "import matplotlib.pyplot as plt\n",
    "from math import exp,sin,cos\n",
    "from pylab import *\n",
    "from sklearn.preprocessing import scale\n",
    "\n",
    "\n",
    "mpl.rcParams['legend.fontsize'] = 10\n",
    "\n",
    "fig = plt.figure()\n",
    "ax = fig.gca(projection='3d')\n",
    "a=0.05\n",
    "b=0.05\n",
    "# took the liberty of reducing the max value for th \n",
    "# as it was giving you values of the order of e42\n",
    "th=np.linspace(0, 40, 10000)  \n",
    "x=10*a*exp(b*th)*cos(th) + 10\n",
    "y=10*a*exp(b*th)*sin(th) + 10\n",
    "z=10*th + 40  # creating the z array with the same length as th\n",
    "ax.plot(x, y, z)  # adding z as an argument for the plot\n",
    "ax.legend()\n",
    "\n",
    "plt.show()"
   ]
  },
  {
   "cell_type": "markdown",
   "metadata": {},
   "source": [
    "# Reshape data "
   ]
  },
  {
   "cell_type": "code",
   "execution_count": 2,
   "metadata": {},
   "outputs": [],
   "source": [
    "x = np.reshape(x,(x.shape[0],1))\n",
    "y = np.reshape(y,(y.shape[0],1))\n",
    "z = np.reshape(z,(z.shape[0],1))\n",
    "th = np.reshape(th,(th.shape[0],1))"
   ]
  },
  {
   "cell_type": "markdown",
   "metadata": {},
   "source": [
    "# Normalize and Concatenate data"
   ]
  },
  {
   "cell_type": "code",
   "execution_count": 3,
   "metadata": {},
   "outputs": [],
   "source": [
    "x = scale(x)\n",
    "y = scale(y)\n",
    "z = scale(z)\n",
    "th = scale(th)"
   ]
  },
  {
   "cell_type": "code",
   "execution_count": 4,
   "metadata": {},
   "outputs": [],
   "source": [
    "x_final = x[0:x.shape[0]-2,:]\n",
    "y_final = y[0:y.shape[0]-2,:]\n",
    "z_final = z[0:z.shape[0]-2,:]\n",
    "th_final = th[1:th.shape[0]-1,:]\n",
    "\n",
    "x_train_final = x[1:x.shape[0]-1,:]\n",
    "y_train_final = y[1:y.shape[0]-1,:]\n",
    "z_train_final = z[1:z.shape[0]-1,:]"
   ]
  },
  {
   "cell_type": "code",
   "execution_count": 5,
   "metadata": {},
   "outputs": [],
   "source": [
    "xy = np.concatenate((x_final, y_final), axis=1)\n",
    "xyz = np.concatenate((xy, z_final), axis=1)\n",
    "X = np.concatenate((xyz, th_final), axis=1)"
   ]
  },
  {
   "cell_type": "code",
   "execution_count": 6,
   "metadata": {},
   "outputs": [],
   "source": [
    "xy_train = np.concatenate((x_train_final, y_train_final), axis=1)\n",
    "Y = np.concatenate((xy_train, z_train_final), axis=1)"
   ]
  },
  {
   "cell_type": "markdown",
   "metadata": {},
   "source": [
    "### sanity check"
   ]
  },
  {
   "cell_type": "code",
   "execution_count": 7,
   "metadata": {},
   "outputs": [
    {
     "data": {
      "text/plain": [
       "((9998, 4), (9998, 3))"
      ]
     },
     "execution_count": 7,
     "metadata": {},
     "output_type": "execute_result"
    }
   ],
   "source": [
    "X.shape, Y.shape"
   ]
  },
  {
   "cell_type": "markdown",
   "metadata": {},
   "source": [
    "# Model architecture"
   ]
  },
  {
   "cell_type": "code",
   "execution_count": 8,
   "metadata": {},
   "outputs": [
    {
     "name": "stderr",
     "output_type": "stream",
     "text": [
      "Using TensorFlow backend.\n"
     ]
    },
    {
     "name": "stdout",
     "output_type": "stream",
     "text": [
      "WARNING:tensorflow:From /home/adityakishore/anaconda3/lib/python3.7/site-packages/tensorflow/python/framework/op_def_library.py:263: colocate_with (from tensorflow.python.framework.ops) is deprecated and will be removed in a future version.\n",
      "Instructions for updating:\n",
      "Colocations handled automatically by placer.\n"
     ]
    }
   ],
   "source": [
    "from keras.layers import Dense\n",
    "from keras.layers import LSTM\n",
    "\n",
    "from keras.models import Sequential\n",
    "\n",
    "model = Sequential()\n",
    "\n",
    "model.add(Dense(16, input_dim = 4, activation='relu'))\n",
    "model.add(Dense(8, activation = 'relu'))\n",
    "model.add(Dense(3))\n",
    "\n",
    "model.compile(loss = 'mean_squared_error', optimizer = 'adam', metrics = ['accuracy'])"
   ]
  },
  {
   "cell_type": "markdown",
   "metadata": {},
   "source": [
    "# Train model"
   ]
  },
  {
   "cell_type": "code",
   "execution_count": null,
   "metadata": {},
   "outputs": [
    {
     "name": "stdout",
     "output_type": "stream",
     "text": [
      "WARNING:tensorflow:From /home/adityakishore/anaconda3/lib/python3.7/site-packages/tensorflow/python/ops/math_ops.py:3066: to_int32 (from tensorflow.python.ops.math_ops) is deprecated and will be removed in a future version.\n",
      "Instructions for updating:\n",
      "Use tf.cast instead.\n",
      "Epoch 1/100\n",
      "9998/9998 [==============================] - 1s 57us/step - loss: 0.3196 - acc: 0.6829\n",
      "Epoch 2/100\n",
      "9998/9998 [==============================] - 0s 33us/step - loss: 0.0038 - acc: 0.9784\n",
      "Epoch 3/100\n",
      "9998/9998 [==============================] - 0s 34us/step - loss: 0.0018 - acc: 0.9868\n",
      "Epoch 4/100\n",
      "9998/9998 [==============================] - 0s 34us/step - loss: 0.0012 - acc: 0.9891\n",
      "Epoch 5/100\n",
      "9998/9998 [==============================] - 0s 32us/step - loss: 9.4441e-04 - acc: 0.9894\n",
      "Epoch 6/100\n",
      "9998/9998 [==============================] - 0s 43us/step - loss: 7.6155e-04 - acc: 0.9900\n",
      "Epoch 7/100\n",
      "9998/9998 [==============================] - 0s 34us/step - loss: 6.2286e-04 - acc: 0.9904\n",
      "Epoch 8/100\n",
      "9998/9998 [==============================] - 0s 34us/step - loss: 5.1075e-04 - acc: 0.9909\n",
      "Epoch 9/100\n",
      "9998/9998 [==============================] - 0s 34us/step - loss: 4.1839e-04 - acc: 0.9917\n",
      "Epoch 10/100\n",
      "9998/9998 [==============================] - 0s 33us/step - loss: 3.3950e-04 - acc: 0.9922\n",
      "Epoch 11/100\n",
      "9998/9998 [==============================] - 0s 34us/step - loss: 2.8586e-04 - acc: 0.9924\n",
      "Epoch 12/100\n",
      "9998/9998 [==============================] - 0s 33us/step - loss: 2.4734e-04 - acc: 0.9934\n",
      "Epoch 13/100\n",
      "7424/9998 [=====================>........] - ETA: 0s - loss: 2.1270e-04 - acc: 0.9935"
     ]
    }
   ],
   "source": [
    "model.fit(X,Y, epochs=100)"
   ]
  },
  {
   "cell_type": "code",
   "execution_count": null,
   "metadata": {},
   "outputs": [],
   "source": []
  }
 ],
 "metadata": {
  "kernelspec": {
   "display_name": "Python 3",
   "language": "python",
   "name": "python3"
  },
  "language_info": {
   "codemirror_mode": {
    "name": "ipython",
    "version": 3
   },
   "file_extension": ".py",
   "mimetype": "text/x-python",
   "name": "python",
   "nbconvert_exporter": "python",
   "pygments_lexer": "ipython3",
   "version": "3.7.1"
  }
 },
 "nbformat": 4,
 "nbformat_minor": 2
}
